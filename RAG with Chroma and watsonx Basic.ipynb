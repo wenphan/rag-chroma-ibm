{
 "cells": [
  {
   "cell_type": "markdown",
   "id": "1facc81d-c099-4eb1-948f-494e0d6a4e60",
   "metadata": {},
   "source": [
    "# Overview"
   ]
  },
  {
   "cell_type": "markdown",
   "id": "d3c8f022-c7ce-4f4a-893b-fdcf5ca756bf",
   "metadata": {},
   "source": [
    "# Setup and Configuration"
   ]
  },
  {
   "cell_type": "markdown",
   "id": "83bef4f6-7703-4fa7-8dcb-21259eb25549",
   "metadata": {},
   "source": [
    "## Dev Settings"
   ]
  },
  {
   "cell_type": "code",
   "execution_count": null,
   "id": "393e272b-0786-4407-b231-ee49378fffa8",
   "metadata": {},
   "outputs": [],
   "source": [
    "# Ignore SSL just for dev\n",
    "import ssl\n",
    "ssl._create_default_https_context = ssl._create_unverified_context\n",
    "\n",
    "# Ignore warnings\n",
    "import warnings\n",
    "warnings.filterwarnings(\"ignore\")"
   ]
  },
  {
   "cell_type": "markdown",
   "id": "b1815a6a-0678-45a6-acb1-8a3a52c987d2",
   "metadata": {},
   "source": [
    "## Packages"
   ]
  },
  {
   "cell_type": "code",
   "execution_count": null,
   "id": "6dca4053-2d6c-4128-992f-3af2a57af01d",
   "metadata": {},
   "outputs": [],
   "source": [
    "!pip install langchain\n",
    "!pip install ibm-watson-machine-learning\n",
    "!pip install wget\n",
    "!pip install sentence-transformers\n",
    "!pip install chromadb"
   ]
  },
  {
   "cell_type": "markdown",
   "id": "5fc10fa1-b050-423f-9e2b-8acea4be7ca3",
   "metadata": {},
   "source": [
    "## Import Utility Packages"
   ]
  },
  {
   "cell_type": "code",
   "execution_count": null,
   "id": "c9d0d650-ca47-4c0e-bf8c-e3c4e5d12ba6",
   "metadata": {},
   "outputs": [],
   "source": [
    "import os\n",
    "import getpass"
   ]
  },
  {
   "cell_type": "markdown",
   "id": "79bafe66-b7c7-4f11-950d-329757510353",
   "metadata": {},
   "source": [
    "## Environment Variables and Keys"
   ]
  },
  {
   "cell_type": "markdown",
   "id": "94c84dc8-1182-4bb7-b5ac-ac51117a9f92",
   "metadata": {},
   "source": [
    "### watsonx URL"
   ]
  },
  {
   "cell_type": "code",
   "execution_count": null,
   "id": "8f3e6901-9d86-46b3-bf2d-3e199713e698",
   "metadata": {},
   "outputs": [],
   "source": [
    "try:\n",
    "    wxa_url = os.environ[\"WXA_URL\"]\n",
    "except KeyError:\n",
    "    wxa_url = getpass.getpass(\"Please enter your watsonx.ai URL domain (hit enter): \")"
   ]
  },
  {
   "cell_type": "markdown",
   "id": "82cd32a9-5102-48d1-8358-5a430c2fe89f",
   "metadata": {},
   "source": [
    "### watsonx API Key"
   ]
  },
  {
   "cell_type": "code",
   "execution_count": null,
   "id": "fe7dff9b-0c41-4be4-9642-218113b8710e",
   "metadata": {},
   "outputs": [],
   "source": [
    "try:\n",
    "    wxa_api_key = os.environ[\"WXA_API_KEY\"]\n",
    "except KeyError:\n",
    "    wxa_api_key = getpass.getpass(\"Please enter your watsonx.ai API key (hit enter): \")"
   ]
  },
  {
   "cell_type": "markdown",
   "id": "8dc25964-bea9-4ffb-93ff-bab1c688dd22",
   "metadata": {},
   "source": [
    "### watsonx Project ID"
   ]
  },
  {
   "cell_type": "code",
   "execution_count": null,
   "id": "e2ed454a-db19-4c53-912a-7a8c4d2aa3c5",
   "metadata": {},
   "outputs": [],
   "source": [
    "try:\n",
    "    wxa_project_id = os.environ[\"WXA_PROJECT_ID\"]\n",
    "except KeyError:\n",
    "    wxa_project_id = getpass.getpass(\"Please enter your watsonx.ai Project ID (hit enter): \")"
   ]
  },
  {
   "cell_type": "markdown",
   "id": "1c6aeb78-4b65-403c-aec1-63e85197f42e",
   "metadata": {},
   "source": [
    "# Query"
   ]
  },
  {
   "cell_type": "code",
   "execution_count": null,
   "id": "9ef938fc-f07a-4d4d-a0ea-9579efa61a54",
   "metadata": {},
   "outputs": [],
   "source": [
    "query = \"What did the president say about Ketanji Brown Jackson?\""
   ]
  },
  {
   "cell_type": "markdown",
   "id": "c8e44570-f8c3-439a-88f2-324c88d781db",
   "metadata": {},
   "source": [
    "# Language Model"
   ]
  },
  {
   "cell_type": "code",
   "execution_count": null,
   "id": "66c7ee2c-672f-423e-886c-bcec7ab0bf17",
   "metadata": {},
   "outputs": [],
   "source": [
    "from ibm_watson_machine_learning.foundation_models.utils.enums import ModelTypes\n",
    "from ibm_watson_machine_learning.foundation_models import Model\n",
    "from ibm_watson_machine_learning.metanames import GenTextParamsMetaNames as GenParams\n",
    "from ibm_watson_machine_learning.foundation_models.utils.enums import DecodingMethods"
   ]
  },
  {
   "cell_type": "code",
   "execution_count": null,
   "id": "1cf6ce0e-5e10-48e4-a593-3295e6d4d551",
   "metadata": {},
   "outputs": [],
   "source": [
    "parameters = {\n",
    "    GenParams.DECODING_METHOD: DecodingMethods.GREEDY,\n",
    "    GenParams.MIN_NEW_TOKENS: 1,\n",
    "    GenParams.MAX_NEW_TOKENS: 100\n",
    "}"
   ]
  },
  {
   "cell_type": "code",
   "execution_count": null,
   "id": "0877585f-8454-49c4-b004-b5a5bfd88bd4",
   "metadata": {},
   "outputs": [],
   "source": [
    "model = Model(\n",
    "    model_id=ModelTypes.GRANITE_13B_INSTRUCT,\n",
    "    params=parameters,\n",
    "    credentials={\n",
    "        \"url\": wxa_url,\n",
    "        \"apikey\": wxa_api_key\n",
    "    },\n",
    "    project_id=wxa_project_id\n",
    ")"
   ]
  },
  {
   "cell_type": "code",
   "execution_count": null,
   "id": "7d927f6f-884c-493b-9b2d-0dbb0cb3dd4a",
   "metadata": {},
   "outputs": [],
   "source": [
    "from ibm_watson_machine_learning.foundation_models.extensions.langchain import WatsonxLLM\n",
    "granite_llm_ibm = WatsonxLLM(model=model)"
   ]
  },
  {
   "cell_type": "markdown",
   "id": "ef401721-6c38-46fe-8559-e250784939f0",
   "metadata": {},
   "source": [
    "# Basic Completion"
   ]
  },
  {
   "cell_type": "code",
   "execution_count": null,
   "id": "9198c9ed-c56c-49de-be9b-864b3e8ea012",
   "metadata": {},
   "outputs": [],
   "source": [
    "result = granite_llm_ibm(query)"
   ]
  },
  {
   "cell_type": "code",
   "execution_count": null,
   "id": "a36fa81b-fce0-48b6-a5c4-2c1b9232c2d8",
   "metadata": {},
   "outputs": [],
   "source": [
    "print(result)"
   ]
  },
  {
   "cell_type": "markdown",
   "id": "1f20f728-d197-41b6-83cf-a64bdc2ac30d",
   "metadata": {},
   "source": [
    "# Data for Documents"
   ]
  },
  {
   "cell_type": "markdown",
   "id": "caa92b42-135a-461b-80b8-a4750661dbb9",
   "metadata": {},
   "source": [
    "## Download Data"
   ]
  },
  {
   "cell_type": "code",
   "execution_count": null,
   "id": "25ca4c36-d63a-44af-9e6a-089870f692b3",
   "metadata": {},
   "outputs": [],
   "source": [
    "import wget\n",
    "\n",
    "filename = \"state_of_the_union.txt\"\n",
    "url = \"https://raw.github.com/IBM/watson-machine-learning-samples/master/cloud/data/foundation_models/state_of_the_union.txt\""
   ]
  },
  {
   "cell_type": "code",
   "execution_count": null,
   "id": "cd9fe929-c5fc-4e50-a04c-52e807cd23e9",
   "metadata": {},
   "outputs": [],
   "source": [
    "if not os.path.isfile(filename):\n",
    "    wget.download(url, out=filename)"
   ]
  },
  {
   "cell_type": "markdown",
   "id": "5c4ee682-dba8-4619-806f-4c82e333e971",
   "metadata": {},
   "source": [
    "## Load documents"
   ]
  },
  {
   "cell_type": "code",
   "execution_count": null,
   "id": "e421e8a6-8162-42d4-a84d-6b773dd48c75",
   "metadata": {},
   "outputs": [],
   "source": [
    "from langchain.document_loaders import TextLoader\n",
    "loader = TextLoader(filename)\n",
    "documents = loader.load()"
   ]
  },
  {
   "cell_type": "markdown",
   "id": "dce0ac7e-fbfa-4c54-86dd-8b492d85db54",
   "metadata": {},
   "source": [
    "## Split Documents"
   ]
  },
  {
   "cell_type": "code",
   "execution_count": null,
   "id": "5030ba9a-5e77-4349-a797-2b6d4f409c1e",
   "metadata": {},
   "outputs": [],
   "source": [
    "from langchain.text_splitter import CharacterTextSplitter\n",
    "text_splitter = CharacterTextSplitter(chunk_size=1000, chunk_overlap=0)\n",
    "texts = text_splitter.split_documents(documents)"
   ]
  },
  {
   "cell_type": "markdown",
   "id": "d308955c-5057-4bf0-a88b-f2665441c124",
   "metadata": {},
   "source": [
    "# Embeddings"
   ]
  },
  {
   "cell_type": "code",
   "execution_count": null,
   "id": "e14f7fd8-4775-43fc-a0ff-8c16d993c464",
   "metadata": {},
   "outputs": [],
   "source": [
    "from langchain.embeddings import HuggingFaceEmbeddings\n",
    "embeddings = HuggingFaceEmbeddings()"
   ]
  },
  {
   "cell_type": "markdown",
   "id": "604921f9-a35a-4baa-a6d1-d229e772f5fb",
   "metadata": {},
   "source": [
    "# Vector Store"
   ]
  },
  {
   "cell_type": "code",
   "execution_count": null,
   "id": "d95237c4-7782-40a7-8c7c-0337b2286377",
   "metadata": {},
   "outputs": [],
   "source": [
    "from langchain.vectorstores import Chroma\n",
    "chroma_vectorstore = Chroma.from_documents(texts, embeddings)"
   ]
  },
  {
   "cell_type": "markdown",
   "id": "f036cbbb-eae4-4a62-9a0f-d7d76c85d593",
   "metadata": {},
   "source": [
    "# Similiarity Search"
   ]
  },
  {
   "cell_type": "code",
   "execution_count": null,
   "id": "0b3ff963-bad3-4195-8a26-31a65f9fe3b2",
   "metadata": {},
   "outputs": [],
   "source": [
    "texts_sim = chroma_vectorstore.similarity_search(query, k=3)"
   ]
  },
  {
   "cell_type": "code",
   "execution_count": null,
   "id": "00e8c83d-86e9-479a-8e00-dbeba282ad17",
   "metadata": {},
   "outputs": [],
   "source": [
    "print(\"Number of relevant texts: \" + str(len(texts_sim)))"
   ]
  },
  {
   "cell_type": "code",
   "execution_count": null,
   "id": "1cc489f8-1769-4120-9c54-2cc4e146c3df",
   "metadata": {},
   "outputs": [],
   "source": [
    "print(\"First 100 characters of relevant texts.\")\n",
    "for i in range(len(texts_sim)):\n",
    "        print(\"Text \" + str(i) + \": \" + str(texts_sim[i].page_content[0:100]))"
   ]
  },
  {
   "cell_type": "markdown",
   "id": "716840bd-0427-48f5-bb0f-2ff52d39f007",
   "metadata": {},
   "source": [
    "# RAG Generation (Explicit Context Control)"
   ]
  },
  {
   "cell_type": "code",
   "execution_count": null,
   "id": "8b3c1425-d248-4dd8-a34c-5a2726c264c6",
   "metadata": {},
   "outputs": [],
   "source": [
    "from langchain.chains.question_answering import load_qa_chain\n",
    "chain = load_qa_chain(granite_llm_ibm, chain_type=\"stuff\")\n",
    "result = chain.run(input_documents=texts_sim, question=query)"
   ]
  },
  {
   "cell_type": "code",
   "execution_count": null,
   "id": "bea11d7f-638b-4ccc-b13d-0de36bc0d784",
   "metadata": {},
   "outputs": [],
   "source": [
    "print(\"Query: \" + query)\n",
    "print(\"Result:\" + result)"
   ]
  },
  {
   "cell_type": "markdown",
   "id": "2169a395-d72e-4831-bdac-8b15d4856840",
   "metadata": {},
   "source": [
    "# RAG Q&A Chain"
   ]
  },
  {
   "cell_type": "code",
   "execution_count": null,
   "id": "86e8500c-5309-4a66-bad1-30d437eaa9e2",
   "metadata": {},
   "outputs": [],
   "source": [
    "from langchain.chains import RetrievalQA\n",
    "qa = RetrievalQA.from_chain_type(llm=granite_llm_ibm, chain_type=\"stuff\", retriever=chroma_vectorstore.as_retriever())\n",
    "result = qa.run(query)"
   ]
  },
  {
   "cell_type": "code",
   "execution_count": null,
   "id": "954e5ad2-1675-4cbd-9622-636816997134",
   "metadata": {},
   "outputs": [],
   "source": [
    "print(\"Query: \" + query)\n",
    "print(\"Result:\" + result)"
   ]
  }
 ],
 "metadata": {
  "kernelspec": {
   "display_name": "Python 3 (ipykernel)",
   "language": "python",
   "name": "python3"
  },
  "language_info": {
   "codemirror_mode": {
    "name": "ipython",
    "version": 3
   },
   "file_extension": ".py",
   "mimetype": "text/x-python",
   "name": "python",
   "nbconvert_exporter": "python",
   "pygments_lexer": "ipython3",
   "version": "3.11.5"
  }
 },
 "nbformat": 4,
 "nbformat_minor": 5
}
